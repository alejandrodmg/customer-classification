{
 "cells": [
  {
   "cell_type": "markdown",
   "metadata": {
    "collapsed": true
   },
   "source": [
    "# Data Exploration\n",
    "## Great Customer Classification"
   ]
  },
  {
   "cell_type": "code",
   "execution_count": 1,
   "metadata": {},
   "outputs": [],
   "source": [
    "%matplotlib inline\n",
    "import pandas as pd\n",
    "import numpy as np\n",
    "import matplotlib.pyplot as plt\n",
    "import seaborn as sns"
   ]
  },
  {
   "cell_type": "code",
   "execution_count": 2,
   "metadata": {},
   "outputs": [],
   "source": [
    "data = pd.read_csv('../data/customers.csv')"
   ]
  },
  {
   "cell_type": "code",
   "execution_count": 3,
   "metadata": {},
   "outputs": [
    {
     "name": "stdout",
     "output_type": "stream",
     "text": [
      "Shape dataset: (13599, 15)\n"
     ]
    },
    {
     "data": {
      "text/html": [
       "<div>\n",
       "<style scoped>\n",
       "    .dataframe tbody tr th:only-of-type {\n",
       "        vertical-align: middle;\n",
       "    }\n",
       "\n",
       "    .dataframe tbody tr th {\n",
       "        vertical-align: top;\n",
       "    }\n",
       "\n",
       "    .dataframe thead th {\n",
       "        text-align: right;\n",
       "    }\n",
       "</style>\n",
       "<table border=\"1\" class=\"dataframe\">\n",
       "  <thead>\n",
       "    <tr style=\"text-align: right;\">\n",
       "      <th></th>\n",
       "      <th>user_id</th>\n",
       "      <th>age</th>\n",
       "      <th>workclass</th>\n",
       "      <th>salary</th>\n",
       "      <th>education_rank</th>\n",
       "      <th>marital-status</th>\n",
       "      <th>occupation</th>\n",
       "      <th>race</th>\n",
       "      <th>sex</th>\n",
       "      <th>mins_beerdrinking_year</th>\n",
       "      <th>mins_exercising_year</th>\n",
       "      <th>works_hours</th>\n",
       "      <th>tea_per_year</th>\n",
       "      <th>coffee_per_year</th>\n",
       "      <th>great_customer_class</th>\n",
       "    </tr>\n",
       "  </thead>\n",
       "  <tbody>\n",
       "    <tr>\n",
       "      <th>0</th>\n",
       "      <td>1004889</td>\n",
       "      <td>14.0</td>\n",
       "      <td>private</td>\n",
       "      <td>70773.00</td>\n",
       "      <td>9</td>\n",
       "      <td>Never-married</td>\n",
       "      <td>sales</td>\n",
       "      <td>not_caucasian</td>\n",
       "      <td>Male</td>\n",
       "      <td>0.0</td>\n",
       "      <td>0.0</td>\n",
       "      <td>40</td>\n",
       "      <td>399.0</td>\n",
       "      <td>NaN</td>\n",
       "      <td>0</td>\n",
       "    </tr>\n",
       "    <tr>\n",
       "      <th>1</th>\n",
       "      <td>1012811</td>\n",
       "      <td>25.0</td>\n",
       "      <td>private</td>\n",
       "      <td>76597.00</td>\n",
       "      <td>9</td>\n",
       "      <td>Divorced</td>\n",
       "      <td>sales</td>\n",
       "      <td>caucasian</td>\n",
       "      <td>Female</td>\n",
       "      <td>0.0</td>\n",
       "      <td>0.0</td>\n",
       "      <td>30</td>\n",
       "      <td>256.0</td>\n",
       "      <td>NaN</td>\n",
       "      <td>0</td>\n",
       "    </tr>\n",
       "    <tr>\n",
       "      <th>2</th>\n",
       "      <td>1006870</td>\n",
       "      <td>21.0</td>\n",
       "      <td>private</td>\n",
       "      <td>47947.25</td>\n",
       "      <td>10</td>\n",
       "      <td>Never-married</td>\n",
       "      <td>clerical</td>\n",
       "      <td>caucasian</td>\n",
       "      <td>Female</td>\n",
       "      <td>0.0</td>\n",
       "      <td>0.0</td>\n",
       "      <td>10</td>\n",
       "      <td>442.0</td>\n",
       "      <td>276.0</td>\n",
       "      <td>0</td>\n",
       "    </tr>\n",
       "    <tr>\n",
       "      <th>3</th>\n",
       "      <td>1022149</td>\n",
       "      <td>23.0</td>\n",
       "      <td>private</td>\n",
       "      <td>41740.25</td>\n",
       "      <td>7</td>\n",
       "      <td>Divorced</td>\n",
       "      <td>sales</td>\n",
       "      <td>caucasian</td>\n",
       "      <td>Female</td>\n",
       "      <td>0.0</td>\n",
       "      <td>0.0</td>\n",
       "      <td>20</td>\n",
       "      <td>NaN</td>\n",
       "      <td>NaN</td>\n",
       "      <td>0</td>\n",
       "    </tr>\n",
       "    <tr>\n",
       "      <th>4</th>\n",
       "      <td>1029558</td>\n",
       "      <td>26.0</td>\n",
       "      <td>private</td>\n",
       "      <td>NaN</td>\n",
       "      <td>9</td>\n",
       "      <td>Married</td>\n",
       "      <td>sales</td>\n",
       "      <td>not_caucasian</td>\n",
       "      <td>Male</td>\n",
       "      <td>NaN</td>\n",
       "      <td>0.0</td>\n",
       "      <td>36</td>\n",
       "      <td>NaN</td>\n",
       "      <td>120.0</td>\n",
       "      <td>0</td>\n",
       "    </tr>\n",
       "  </tbody>\n",
       "</table>\n",
       "</div>"
      ],
      "text/plain": [
       "   user_id   age workclass    salary  education_rank marital-status  \\\n",
       "0  1004889  14.0   private  70773.00               9  Never-married   \n",
       "1  1012811  25.0   private  76597.00               9       Divorced   \n",
       "2  1006870  21.0   private  47947.25              10  Never-married   \n",
       "3  1022149  23.0   private  41740.25               7       Divorced   \n",
       "4  1029558  26.0   private       NaN               9        Married   \n",
       "\n",
       "  occupation           race     sex  mins_beerdrinking_year  \\\n",
       "0      sales  not_caucasian    Male                     0.0   \n",
       "1      sales      caucasian  Female                     0.0   \n",
       "2   clerical      caucasian  Female                     0.0   \n",
       "3      sales      caucasian  Female                     0.0   \n",
       "4      sales  not_caucasian    Male                     NaN   \n",
       "\n",
       "   mins_exercising_year  works_hours  tea_per_year  coffee_per_year  \\\n",
       "0                   0.0           40         399.0              NaN   \n",
       "1                   0.0           30         256.0              NaN   \n",
       "2                   0.0           10         442.0            276.0   \n",
       "3                   0.0           20           NaN              NaN   \n",
       "4                   0.0           36           NaN            120.0   \n",
       "\n",
       "   great_customer_class  \n",
       "0                     0  \n",
       "1                     0  \n",
       "2                     0  \n",
       "3                     0  \n",
       "4                     0  "
      ]
     },
     "execution_count": 3,
     "metadata": {},
     "output_type": "execute_result"
    }
   ],
   "source": [
    "print('Shape dataset:', data.shape)\n",
    "data.head()"
   ]
  },
  {
   "cell_type": "code",
   "execution_count": 4,
   "metadata": {},
   "outputs": [
    {
     "name": "stdout",
     "output_type": "stream",
     "text": [
      "<class 'pandas.core.frame.DataFrame'>\n",
      "RangeIndex: 13599 entries, 0 to 13598\n",
      "Data columns (total 15 columns):\n",
      " #   Column                  Non-Null Count  Dtype  \n",
      "---  ------                  --------------  -----  \n",
      " 0   user_id                 13599 non-null  int64  \n",
      " 1   age                     13178 non-null  float64\n",
      " 2   workclass               13056 non-null  object \n",
      " 3   salary                  13177 non-null  float64\n",
      " 4   education_rank          13599 non-null  int64  \n",
      " 5   marital-status          13599 non-null  object \n",
      " 6   occupation              13056 non-null  object \n",
      " 7   race                    13599 non-null  object \n",
      " 8   sex                     13599 non-null  object \n",
      " 9   mins_beerdrinking_year  13175 non-null  float64\n",
      " 10  mins_exercising_year    13178 non-null  float64\n",
      " 11  works_hours             13599 non-null  int64  \n",
      " 12  tea_per_year            11170 non-null  float64\n",
      " 13  coffee_per_year         11188 non-null  float64\n",
      " 14  great_customer_class    13599 non-null  int64  \n",
      "dtypes: float64(6), int64(4), object(5)\n",
      "memory usage: 1.6+ MB\n"
     ]
    }
   ],
   "source": [
    "data.info()"
   ]
  },
  {
   "cell_type": "markdown",
   "metadata": {},
   "source": [
    "- The dataset has 9 numeric features and 5 categorical features. \n",
    "- `great_customer_class` or target class is binary encoded.  "
   ]
  },
  {
   "cell_type": "markdown",
   "metadata": {},
   "source": [
    "## 1) Health Check"
   ]
  },
  {
   "cell_type": "code",
   "execution_count": 5,
   "metadata": {},
   "outputs": [],
   "source": [
    "def health_check(df, data_type):\n",
    "    \n",
    "    \"\"\" Checks the level of uniqueness and \n",
    "    missing values in each of the columns/features in\n",
    "    a Pandas DataFrame. \"\"\"\n",
    "    \n",
    "    df_columns = df.select_dtypes(include=data_type).columns\n",
    "    print('%-27.25s' % 'Feature', '%-17.10s' % 'Unique (%)', '%-17.11s' % 'Missing (%)')\n",
    "    print('-'*55)\n",
    "    for feature in df_columns:\n",
    "        print('%-27.25s' % feature, '%-17.2f' % (df[feature].nunique()*100/df.shape[0]),\\\n",
    "          '%-17.2f' % (sum(df[feature].isnull().values)*100/df.shape[0]))\n",
    "    print('-'*55)"
   ]
  },
  {
   "cell_type": "code",
   "execution_count": 6,
   "metadata": {},
   "outputs": [
    {
     "name": "stdout",
     "output_type": "stream",
     "text": [
      "Feature                     Unique (%)        Missing (%)      \n",
      "-------------------------------------------------------\n",
      "user_id                     63.23             0.00             \n",
      "age                         0.54              3.10             \n",
      "workclass                   0.02              3.99             \n",
      "salary                      52.99             3.10             \n",
      "education_rank              0.12              0.00             \n",
      "marital-status              0.03              0.00             \n",
      "occupation                  0.10              3.99             \n",
      "race                        0.01              0.00             \n",
      "sex                         0.01              0.00             \n",
      "mins_beerdrinking_year      0.71              3.12             \n",
      "mins_exercising_year        0.48              3.10             \n",
      "works_hours                 0.62              0.00             \n",
      "tea_per_year                3.67              17.86            \n",
      "coffee_per_year             3.67              17.73            \n",
      "great_customer_class        0.01              0.00             \n",
      "-------------------------------------------------------\n"
     ]
    }
   ],
   "source": [
    "health_check(data, ['float', 'int', 'object'])"
   ]
  },
  {
   "cell_type": "markdown",
   "metadata": {},
   "source": [
    "- Around 37% of `user_id` aren't unique, are these duplicated records?\n",
    "- Tea and coffee consumption is not reported 18% of the times, inpute or drop?"
   ]
  },
  {
   "cell_type": "code",
   "execution_count": 7,
   "metadata": {},
   "outputs": [
    {
     "name": "stdout",
     "output_type": "stream",
     "text": [
      "Duplicate rows 36.8%\n"
     ]
    }
   ],
   "source": [
    "print('Duplicate rows {:.1%}'.format(sum(data.duplicated(data.columns))/data.shape[0]))"
   ]
  },
  {
   "cell_type": "markdown",
   "metadata": {},
   "source": [
    "Drop duplicate observations otherwise they're going to skew descriptive statistics."
   ]
  },
  {
   "cell_type": "code",
   "execution_count": 8,
   "metadata": {},
   "outputs": [],
   "source": [
    "unique_data = data.drop_duplicates().reset_index(drop=True)"
   ]
  },
  {
   "cell_type": "code",
   "execution_count": 9,
   "metadata": {},
   "outputs": [
    {
     "name": "stdout",
     "output_type": "stream",
     "text": [
      "Feature                     Unique (%)        Missing (%)      \n",
      "-------------------------------------------------------\n",
      "user_id                     100.00            0.00             \n",
      "age                         0.85              4.90             \n",
      "workclass                   0.03              6.31             \n",
      "salary                      83.80             4.91             \n",
      "education_rank              0.19              0.00             \n",
      "marital-status              0.05              0.00             \n",
      "occupation                  0.16              6.31             \n",
      "race                        0.02              0.00             \n",
      "sex                         0.02              0.00             \n",
      "mins_beerdrinking_year      1.12              4.93             \n",
      "mins_exercising_year        0.76              4.90             \n",
      "works_hours                 0.98              0.00             \n",
      "tea_per_year                5.80              28.25            \n",
      "coffee_per_year             5.80              28.04            \n",
      "great_customer_class        0.02              0.00             \n",
      "-------------------------------------------------------\n"
     ]
    }
   ],
   "source": [
    "health_check(unique_data, ['float', 'int', 'object'])"
   ]
  },
  {
   "cell_type": "markdown",
   "metadata": {},
   "source": [
    "## 2) Descriptive Statistics"
   ]
  },
  {
   "cell_type": "code",
   "execution_count": 10,
   "metadata": {},
   "outputs": [
    {
     "data": {
      "text/html": [
       "<div>\n",
       "<style scoped>\n",
       "    .dataframe tbody tr th:only-of-type {\n",
       "        vertical-align: middle;\n",
       "    }\n",
       "\n",
       "    .dataframe tbody tr th {\n",
       "        vertical-align: top;\n",
       "    }\n",
       "\n",
       "    .dataframe thead th {\n",
       "        text-align: right;\n",
       "    }\n",
       "</style>\n",
       "<table border=\"1\" class=\"dataframe\">\n",
       "  <thead>\n",
       "    <tr style=\"text-align: right;\">\n",
       "      <th></th>\n",
       "      <th>age</th>\n",
       "      <th>salary</th>\n",
       "      <th>mins_beerdrinking_year</th>\n",
       "      <th>mins_exercising_year</th>\n",
       "      <th>tea_per_year</th>\n",
       "      <th>coffee_per_year</th>\n",
       "    </tr>\n",
       "  </thead>\n",
       "  <tbody>\n",
       "    <tr>\n",
       "      <th>count</th>\n",
       "      <td>8178.000000</td>\n",
       "      <td>8177.000000</td>\n",
       "      <td>8175.000000</td>\n",
       "      <td>8178.000000</td>\n",
       "      <td>6170.000000</td>\n",
       "      <td>6188.000000</td>\n",
       "    </tr>\n",
       "    <tr>\n",
       "      <th>mean</th>\n",
       "      <td>36.185865</td>\n",
       "      <td>47094.141036</td>\n",
       "      <td>721.878165</td>\n",
       "      <td>74.179384</td>\n",
       "      <td>251.536305</td>\n",
       "      <td>247.158209</td>\n",
       "    </tr>\n",
       "    <tr>\n",
       "      <th>std</th>\n",
       "      <td>14.752698</td>\n",
       "      <td>26309.594856</td>\n",
       "      <td>6054.730978</td>\n",
       "      <td>370.706099</td>\n",
       "      <td>144.512387</td>\n",
       "      <td>143.829770</td>\n",
       "    </tr>\n",
       "    <tr>\n",
       "      <th>min</th>\n",
       "      <td>14.000000</td>\n",
       "      <td>4872.750000</td>\n",
       "      <td>0.000000</td>\n",
       "      <td>0.000000</td>\n",
       "      <td>1.000000</td>\n",
       "      <td>1.000000</td>\n",
       "    </tr>\n",
       "    <tr>\n",
       "      <th>25%</th>\n",
       "      <td>24.000000</td>\n",
       "      <td>29328.250000</td>\n",
       "      <td>0.000000</td>\n",
       "      <td>0.000000</td>\n",
       "      <td>125.000000</td>\n",
       "      <td>123.000000</td>\n",
       "    </tr>\n",
       "    <tr>\n",
       "      <th>50%</th>\n",
       "      <td>34.000000</td>\n",
       "      <td>44423.750000</td>\n",
       "      <td>0.000000</td>\n",
       "      <td>0.000000</td>\n",
       "      <td>252.000000</td>\n",
       "      <td>248.000000</td>\n",
       "    </tr>\n",
       "    <tr>\n",
       "      <th>75%</th>\n",
       "      <td>46.000000</td>\n",
       "      <td>59118.000000</td>\n",
       "      <td>0.000000</td>\n",
       "      <td>0.000000</td>\n",
       "      <td>378.000000</td>\n",
       "      <td>370.000000</td>\n",
       "    </tr>\n",
       "    <tr>\n",
       "      <th>max</th>\n",
       "      <td>90.000000</td>\n",
       "      <td>363858.750000</td>\n",
       "      <td>99999.000000</td>\n",
       "      <td>3900.000000</td>\n",
       "      <td>499.000000</td>\n",
       "      <td>499.000000</td>\n",
       "    </tr>\n",
       "  </tbody>\n",
       "</table>\n",
       "</div>"
      ],
      "text/plain": [
       "               age         salary  mins_beerdrinking_year  \\\n",
       "count  8178.000000    8177.000000             8175.000000   \n",
       "mean     36.185865   47094.141036              721.878165   \n",
       "std      14.752698   26309.594856             6054.730978   \n",
       "min      14.000000    4872.750000                0.000000   \n",
       "25%      24.000000   29328.250000                0.000000   \n",
       "50%      34.000000   44423.750000                0.000000   \n",
       "75%      46.000000   59118.000000                0.000000   \n",
       "max      90.000000  363858.750000            99999.000000   \n",
       "\n",
       "       mins_exercising_year  tea_per_year  coffee_per_year  \n",
       "count           8178.000000   6170.000000      6188.000000  \n",
       "mean              74.179384    251.536305       247.158209  \n",
       "std              370.706099    144.512387       143.829770  \n",
       "min                0.000000      1.000000         1.000000  \n",
       "25%                0.000000    125.000000       123.000000  \n",
       "50%                0.000000    252.000000       248.000000  \n",
       "75%                0.000000    378.000000       370.000000  \n",
       "max             3900.000000    499.000000       499.000000  "
      ]
     },
     "execution_count": 10,
     "metadata": {},
     "output_type": "execute_result"
    }
   ],
   "source": [
    "unique_data.describe(include=['float'])"
   ]
  },
  {
   "cell_type": "markdown",
   "metadata": {},
   "source": [
    "- `mins_beerdrinking_year` and `mins_exercising_year` show a standard deviation that is greater than the mean, most likely due to extreme values in the data (25th, 50th, and 75th percentiles are 0)."
   ]
  },
  {
   "cell_type": "code",
   "execution_count": 11,
   "metadata": {},
   "outputs": [
    {
     "data": {
      "text/html": [
       "<div>\n",
       "<style scoped>\n",
       "    .dataframe tbody tr th:only-of-type {\n",
       "        vertical-align: middle;\n",
       "    }\n",
       "\n",
       "    .dataframe tbody tr th {\n",
       "        vertical-align: top;\n",
       "    }\n",
       "\n",
       "    .dataframe thead th {\n",
       "        text-align: right;\n",
       "    }\n",
       "</style>\n",
       "<table border=\"1\" class=\"dataframe\">\n",
       "  <thead>\n",
       "    <tr style=\"text-align: right;\">\n",
       "      <th></th>\n",
       "      <th>user_id</th>\n",
       "      <th>education_rank</th>\n",
       "      <th>works_hours</th>\n",
       "      <th>great_customer_class</th>\n",
       "    </tr>\n",
       "  </thead>\n",
       "  <tbody>\n",
       "    <tr>\n",
       "      <th>count</th>\n",
       "      <td>8.599000e+03</td>\n",
       "      <td>8599.000000</td>\n",
       "      <td>8599.000000</td>\n",
       "      <td>8599.000000</td>\n",
       "    </tr>\n",
       "    <tr>\n",
       "      <th>mean</th>\n",
       "      <td>1.024392e+06</td>\n",
       "      <td>9.905222</td>\n",
       "      <td>39.867659</td>\n",
       "      <td>0.135830</td>\n",
       "    </tr>\n",
       "    <tr>\n",
       "      <th>std</th>\n",
       "      <td>1.409441e+04</td>\n",
       "      <td>2.492598</td>\n",
       "      <td>12.373263</td>\n",
       "      <td>0.342628</td>\n",
       "    </tr>\n",
       "    <tr>\n",
       "      <th>min</th>\n",
       "      <td>1.000006e+06</td>\n",
       "      <td>1.000000</td>\n",
       "      <td>1.000000</td>\n",
       "      <td>0.000000</td>\n",
       "    </tr>\n",
       "    <tr>\n",
       "      <th>25%</th>\n",
       "      <td>1.012154e+06</td>\n",
       "      <td>9.000000</td>\n",
       "      <td>38.000000</td>\n",
       "      <td>0.000000</td>\n",
       "    </tr>\n",
       "    <tr>\n",
       "      <th>50%</th>\n",
       "      <td>1.024334e+06</td>\n",
       "      <td>10.000000</td>\n",
       "      <td>40.000000</td>\n",
       "      <td>0.000000</td>\n",
       "    </tr>\n",
       "    <tr>\n",
       "      <th>75%</th>\n",
       "      <td>1.036660e+06</td>\n",
       "      <td>11.000000</td>\n",
       "      <td>45.000000</td>\n",
       "      <td>0.000000</td>\n",
       "    </tr>\n",
       "    <tr>\n",
       "      <th>max</th>\n",
       "      <td>1.048839e+06</td>\n",
       "      <td>16.000000</td>\n",
       "      <td>99.000000</td>\n",
       "      <td>1.000000</td>\n",
       "    </tr>\n",
       "  </tbody>\n",
       "</table>\n",
       "</div>"
      ],
      "text/plain": [
       "            user_id  education_rank  works_hours  great_customer_class\n",
       "count  8.599000e+03     8599.000000  8599.000000           8599.000000\n",
       "mean   1.024392e+06        9.905222    39.867659              0.135830\n",
       "std    1.409441e+04        2.492598    12.373263              0.342628\n",
       "min    1.000006e+06        1.000000     1.000000              0.000000\n",
       "25%    1.012154e+06        9.000000    38.000000              0.000000\n",
       "50%    1.024334e+06       10.000000    40.000000              0.000000\n",
       "75%    1.036660e+06       11.000000    45.000000              0.000000\n",
       "max    1.048839e+06       16.000000    99.000000              1.000000"
      ]
     },
     "execution_count": 11,
     "metadata": {},
     "output_type": "execute_result"
    }
   ],
   "source": [
    "unique_data.describe(include=['int'])"
   ]
  },
  {
   "cell_type": "markdown",
   "metadata": {},
   "source": [
    "- Class imbalance problem: 13.6% of the database are **great customers**. ML algorithms would overfit to the majority class to maximize the level of accuracy, resulting in excepcionally good models at predicting the negative class for any new incoming observation.\n",
    "- Potential solutions: class weightining, undersampling, oversampling or synthetic data."
   ]
  },
  {
   "cell_type": "code",
   "execution_count": 12,
   "metadata": {},
   "outputs": [
    {
     "data": {
      "text/html": [
       "<div>\n",
       "<style scoped>\n",
       "    .dataframe tbody tr th:only-of-type {\n",
       "        vertical-align: middle;\n",
       "    }\n",
       "\n",
       "    .dataframe tbody tr th {\n",
       "        vertical-align: top;\n",
       "    }\n",
       "\n",
       "    .dataframe thead th {\n",
       "        text-align: right;\n",
       "    }\n",
       "</style>\n",
       "<table border=\"1\" class=\"dataframe\">\n",
       "  <thead>\n",
       "    <tr style=\"text-align: right;\">\n",
       "      <th></th>\n",
       "      <th>workclass</th>\n",
       "      <th>marital-status</th>\n",
       "      <th>occupation</th>\n",
       "      <th>race</th>\n",
       "      <th>sex</th>\n",
       "    </tr>\n",
       "  </thead>\n",
       "  <tbody>\n",
       "    <tr>\n",
       "      <th>count</th>\n",
       "      <td>8056</td>\n",
       "      <td>8599</td>\n",
       "      <td>8056</td>\n",
       "      <td>8599</td>\n",
       "      <td>8599</td>\n",
       "    </tr>\n",
       "    <tr>\n",
       "      <th>unique</th>\n",
       "      <td>3</td>\n",
       "      <td>4</td>\n",
       "      <td>14</td>\n",
       "      <td>2</td>\n",
       "      <td>2</td>\n",
       "    </tr>\n",
       "    <tr>\n",
       "      <th>top</th>\n",
       "      <td>private</td>\n",
       "      <td>Married</td>\n",
       "      <td>craft</td>\n",
       "      <td>caucasian</td>\n",
       "      <td>Male</td>\n",
       "    </tr>\n",
       "    <tr>\n",
       "      <th>freq</th>\n",
       "      <td>5957</td>\n",
       "      <td>3559</td>\n",
       "      <td>1114</td>\n",
       "      <td>7313</td>\n",
       "      <td>5597</td>\n",
       "    </tr>\n",
       "  </tbody>\n",
       "</table>\n",
       "</div>"
      ],
      "text/plain": [
       "       workclass marital-status occupation       race   sex\n",
       "count       8056           8599       8056       8599  8599\n",
       "unique         3              4         14          2     2\n",
       "top      private        Married      craft  caucasian  Male\n",
       "freq        5957           3559       1114       7313  5597"
      ]
     },
     "execution_count": 12,
     "metadata": {},
     "output_type": "execute_result"
    }
   ],
   "source": [
    "unique_data.describe(include=['object'])"
   ]
  },
  {
   "cell_type": "markdown",
   "metadata": {},
   "source": [
    "- Most common customer is male (65%), caucasian (85%), married (41%), crafts stuff (13%) and works for a private company (69%) (but not necesarily this specific description!)."
   ]
  },
  {
   "cell_type": "code",
   "execution_count": 13,
   "metadata": {},
   "outputs": [
    {
     "name": "stdout",
     "output_type": "stream",
     "text": [
      "craft           1114\n",
      "clerical         999\n",
      "professional     984\n",
      "service          973\n",
      "executive        953\n",
      "sales            920\n",
      "factory          555\n",
      "trucker          414\n",
      "cleaner          399\n",
      "farm             301\n",
      "tech             234\n",
      "lawenf           161\n",
      "estate_agent      47\n",
      "soldier            2\n",
      "Name: occupation, dtype: int64\n"
     ]
    }
   ],
   "source": [
    "print(unique_data['occupation'].value_counts())\n",
    "unique_data['occupation'].replace({'soldier': 'other','estate_agent': 'other'}, inplace=True)"
   ]
  },
  {
   "cell_type": "code",
   "execution_count": 14,
   "metadata": {},
   "outputs": [
    {
     "name": "stdout",
     "output_type": "stream",
     "text": [
      "Married          3559\n",
      "Never-married    3141\n",
      "Divorced         1625\n",
      "Widowed           274\n",
      "Name: marital-status, dtype: int64\n"
     ]
    }
   ],
   "source": [
    "print(unique_data['marital-status'].value_counts())"
   ]
  },
  {
   "cell_type": "code",
   "execution_count": 15,
   "metadata": {},
   "outputs": [
    {
     "name": "stdout",
     "output_type": "stream",
     "text": [
      "private          5957\n",
      "government       1127\n",
      "self_employed     972\n",
      "Name: workclass, dtype: int64\n"
     ]
    }
   ],
   "source": [
    "print(unique_data['workclass'].value_counts())"
   ]
  },
  {
   "cell_type": "code",
   "execution_count": 16,
   "metadata": {},
   "outputs": [
    {
     "name": "stdout",
     "output_type": "stream",
     "text": [
      "caucasian        7313\n",
      "not_caucasian    1286\n",
      "Name: race, dtype: int64\n"
     ]
    }
   ],
   "source": [
    "print(unique_data['race'].value_counts())"
   ]
  },
  {
   "cell_type": "code",
   "execution_count": 17,
   "metadata": {},
   "outputs": [
    {
     "name": "stdout",
     "output_type": "stream",
     "text": [
      "Male      5597\n",
      "Female    3002\n",
      "Name: sex, dtype: int64\n"
     ]
    }
   ],
   "source": [
    "print(unique_data['sex'].value_counts())"
   ]
  },
  {
   "cell_type": "markdown",
   "metadata": {},
   "source": [
    "## 3) Target class distribution"
   ]
  },
  {
   "cell_type": "code",
   "execution_count": 18,
   "metadata": {},
   "outputs": [
    {
     "data": {
      "image/png": "[encoded data removed]",
      "text/plain": [
       "<Figure size 432x432 with 1 Axes>"
      ]
     },
     "metadata": {
      "needs_background": "light"
     },
     "output_type": "display_data"
    }
   ],
   "source": [
    "# Get workclass stats\n",
    "workclass = unique_data.groupby(['workclass'])\\\n",
    "['great_customer_class'].describe().sort_values(by='mean', ascending=False)\n",
    "# Plot a barchart\n",
    "plt.figure(figsize=(6, 6))\n",
    "plt.bar(workclass.index, workclass['mean'].values, width=0.50, label='Great Customers', color='tomato')\n",
    "plt.bar(workclass.index, 1-workclass['mean'].values, bottom=workclass['mean'].values, \n",
    "        width=0.50, label='Bad Customers', color='steelblue')\n",
    "plt.grid(True, alpha=0.1, color='black')\n",
    "plt.ylabel('Percentage Customers (%)')\n",
    "plt.legend()\n",
    "plt.title('Workclass')\n",
    "plt.show();"
   ]
  },
  {
   "cell_type": "code",
   "execution_count": 19,
   "metadata": {},
   "outputs": [
    {
     "data": {
      "image/png": "[encoded data removed]",
      "text/plain": [
       "<Figure size 432x432 with 1 Axes>"
      ]
     },
     "metadata": {
      "needs_background": "light"
     },
     "output_type": "display_data"
    }
   ],
   "source": [
    "# Get marital status stats\n",
    "marital_status = unique_data.groupby(['marital-status'])\\\n",
    "['great_customer_class'].describe().sort_values(by='mean', ascending=False)\n",
    "# Plot a barchart\n",
    "plt.figure(figsize=(6, 6))\n",
    "plt.bar(marital_status.index, marital_status['mean'].values, width=0.50, label='Great Customers', color='tomato')\n",
    "plt.bar(marital_status.index, 1-marital_status['mean'].values, bottom=marital_status['mean'].values, \n",
    "        width=0.50, label='Bad Customers', color='steelblue')\n",
    "plt.grid(True, alpha=0.1, color='black')\n",
    "plt.ylabel('Percentage Customers (%)')\n",
    "plt.legend()\n",
    "plt.title('Marital Status')\n",
    "plt.show();"
   ]
  },
  {
   "cell_type": "code",
   "execution_count": 20,
   "metadata": {},
   "outputs": [
    {
     "data": {
      "image/png": "[encoded data removed]",
      "text/plain": [
       "<Figure size 432x432 with 1 Axes>"
      ]
     },
     "metadata": {
      "needs_background": "light"
     },
     "output_type": "display_data"
    }
   ],
   "source": [
    "# Get marital status stats\n",
    "occupation = unique_data.groupby(['occupation'])\\\n",
    "['great_customer_class'].describe().sort_values(by='mean', ascending=False)\n",
    "# Plot a barchart\n",
    "plt.figure(figsize=(6, 6))\n",
    "plt.bar(occupation.index, occupation['mean'].values, width=0.50, label='Great Customers', color='tomato')\n",
    "plt.bar(occupation.index, 1-occupation['mean'].values, bottom=occupation['mean'].values, \n",
    "        width=0.50, label='Bad Customers', color='steelblue')\n",
    "plt.grid(True, alpha=0.1, color='black')\n",
    "plt.ylabel('Percentage Customers (%)')\n",
    "plt.legend()\n",
    "plt.title('Occupation')\n",
    "plt.xticks(rotation=70)\n",
    "plt.show();"
   ]
  },
  {
   "cell_type": "code",
   "execution_count": 21,
   "metadata": {},
   "outputs": [
    {
     "data": {
      "image/png": "[encoded data removed]",
      "text/plain": [
       "<Figure size 432x432 with 1 Axes>"
      ]
     },
     "metadata": {
      "needs_background": "light"
     },
     "output_type": "display_data"
    }
   ],
   "source": [
    "# Get marital status stats\n",
    "race = unique_data.groupby(['race'])\\\n",
    "['great_customer_class'].describe().sort_values(by='mean', ascending=False)\n",
    "# Plot a barchart\n",
    "plt.figure(figsize=(6, 6))\n",
    "plt.bar(race.index, race['mean'].values, width=0.50, label='Great Customers', color='tomato')\n",
    "plt.bar(race.index, 1-race['mean'].values, bottom=race['mean'].values, \n",
    "        width=0.50, label='Bad Customers', color='steelblue')\n",
    "plt.grid(True, alpha=0.1, color='black')\n",
    "plt.ylabel('Percentage Customers (%)')\n",
    "plt.legend()\n",
    "plt.title('Race')\n",
    "plt.show();"
   ]
  },
  {
   "cell_type": "code",
   "execution_count": 22,
   "metadata": {},
   "outputs": [
    {
     "data": {
      "image/png": "[encoded data removed]",
      "text/plain": [
       "<Figure size 432x432 with 1 Axes>"
      ]
     },
     "metadata": {
      "needs_background": "light"
     },
     "output_type": "display_data"
    }
   ],
   "source": [
    "# Get marital status stats\n",
    "sex = unique_data.groupby(['sex'])\\\n",
    "['great_customer_class'].describe().sort_values(by='mean', ascending=False)\n",
    "# Plot a barchart\n",
    "plt.figure(figsize=(6, 6))\n",
    "plt.bar(sex.index, sex['mean'].values, width=0.50, label='Great Customers', color='tomato')\n",
    "plt.bar(sex.index, 1-sex['mean'].values, bottom=sex['mean'].values, \n",
    "        width=0.50, label='Bad Customers', color='steelblue')\n",
    "plt.grid(True, alpha=0.1, color='black')\n",
    "plt.ylabel('Percentage Customers (%)')\n",
    "plt.legend()\n",
    "plt.title('Sex')\n",
    "plt.show();"
   ]
  },
  {
   "cell_type": "code",
   "execution_count": 23,
   "metadata": {},
   "outputs": [
    {
     "data": {
      "image/png": "[encoded data removed]",
      "text/plain": [
       "<Figure size 432x432 with 1 Axes>"
      ]
     },
     "metadata": {
      "needs_background": "light"
     },
     "output_type": "display_data"
    }
   ],
   "source": [
    "# Get marital status stats\n",
    "education_rank = unique_data.groupby(['education_rank'])\\\n",
    "['great_customer_class'].describe().sort_values(by='mean', ascending=False)\n",
    "# Plot a barchart\n",
    "plt.figure(figsize=(6, 6))\n",
    "plt.bar(education_rank.index.map(str), education_rank['mean'].values, width=0.50, label='Great Customers', color='tomato')\n",
    "plt.bar(education_rank.index.map(str), 1-education_rank['mean'].values, bottom=education_rank['mean'].values, \n",
    "        width=0.50, label='Bad Customers', color='steelblue')\n",
    "plt.grid(True, alpha=0.1, color='black')\n",
    "plt.ylabel('Percentage Customers (%)')\n",
    "plt.legend()\n",
    "plt.title('Education Rank')\n",
    "plt.show();"
   ]
  },
  {
   "cell_type": "markdown",
   "metadata": {},
   "source": [
    "Looking at the categorical features in the dataset, a great customer is more likely to be male (15%), caucasian (12%), executive (33%), married (28%) self-employed (18%) and has a high level of education (60%)."
   ]
  },
  {
   "cell_type": "code",
   "execution_count": 24,
   "metadata": {},
   "outputs": [
    {
     "data": {
      "text/html": [
       "<div>\n",
       "<style scoped>\n",
       "    .dataframe tbody tr th:only-of-type {\n",
       "        vertical-align: middle;\n",
       "    }\n",
       "\n",
       "    .dataframe tbody tr th {\n",
       "        vertical-align: top;\n",
       "    }\n",
       "\n",
       "    .dataframe thead th {\n",
       "        text-align: right;\n",
       "    }\n",
       "</style>\n",
       "<table border=\"1\" class=\"dataframe\">\n",
       "  <thead>\n",
       "    <tr style=\"text-align: right;\">\n",
       "      <th></th>\n",
       "      <th>user_id</th>\n",
       "      <th>age</th>\n",
       "      <th>salary</th>\n",
       "      <th>education_rank</th>\n",
       "      <th>mins_beerdrinking_year</th>\n",
       "      <th>mins_exercising_year</th>\n",
       "      <th>works_hours</th>\n",
       "      <th>tea_per_year</th>\n",
       "      <th>coffee_per_year</th>\n",
       "      <th>great_customer_class</th>\n",
       "    </tr>\n",
       "  </thead>\n",
       "  <tbody>\n",
       "    <tr>\n",
       "      <th>count</th>\n",
       "      <td>1.160000e+02</td>\n",
       "      <td>112.000000</td>\n",
       "      <td>110.000000</td>\n",
       "      <td>116.000000</td>\n",
       "      <td>114.000000</td>\n",
       "      <td>113.000000</td>\n",
       "      <td>116.000000</td>\n",
       "      <td>87.000000</td>\n",
       "      <td>75.000000</td>\n",
       "      <td>116.000000</td>\n",
       "    </tr>\n",
       "    <tr>\n",
       "      <th>mean</th>\n",
       "      <td>1.025908e+06</td>\n",
       "      <td>49.767857</td>\n",
       "      <td>44417.506818</td>\n",
       "      <td>10.689655</td>\n",
       "      <td>3526.157895</td>\n",
       "      <td>138.123894</td>\n",
       "      <td>44.034483</td>\n",
       "      <td>246.195402</td>\n",
       "      <td>289.880000</td>\n",
       "      <td>0.413793</td>\n",
       "    </tr>\n",
       "    <tr>\n",
       "      <th>std</th>\n",
       "      <td>1.426283e+04</td>\n",
       "      <td>13.966486</td>\n",
       "      <td>25665.656589</td>\n",
       "      <td>2.486184</td>\n",
       "      <td>16221.218153</td>\n",
       "      <td>503.894142</td>\n",
       "      <td>13.814253</td>\n",
       "      <td>133.840311</td>\n",
       "      <td>131.694154</td>\n",
       "      <td>0.494649</td>\n",
       "    </tr>\n",
       "    <tr>\n",
       "      <th>min</th>\n",
       "      <td>1.000527e+06</td>\n",
       "      <td>19.000000</td>\n",
       "      <td>6625.500000</td>\n",
       "      <td>4.000000</td>\n",
       "      <td>0.000000</td>\n",
       "      <td>0.000000</td>\n",
       "      <td>8.000000</td>\n",
       "      <td>16.000000</td>\n",
       "      <td>19.000000</td>\n",
       "      <td>0.000000</td>\n",
       "    </tr>\n",
       "    <tr>\n",
       "      <th>25%</th>\n",
       "      <td>1.014770e+06</td>\n",
       "      <td>40.750000</td>\n",
       "      <td>27787.875000</td>\n",
       "      <td>9.000000</td>\n",
       "      <td>0.000000</td>\n",
       "      <td>0.000000</td>\n",
       "      <td>40.000000</td>\n",
       "      <td>157.000000</td>\n",
       "      <td>188.500000</td>\n",
       "      <td>0.000000</td>\n",
       "    </tr>\n",
       "    <tr>\n",
       "      <th>50%</th>\n",
       "      <td>1.027053e+06</td>\n",
       "      <td>49.000000</td>\n",
       "      <td>39194.125000</td>\n",
       "      <td>10.000000</td>\n",
       "      <td>0.000000</td>\n",
       "      <td>0.000000</td>\n",
       "      <td>45.000000</td>\n",
       "      <td>235.000000</td>\n",
       "      <td>306.000000</td>\n",
       "      <td>0.000000</td>\n",
       "    </tr>\n",
       "    <tr>\n",
       "      <th>75%</th>\n",
       "      <td>1.038558e+06</td>\n",
       "      <td>60.000000</td>\n",
       "      <td>58197.875000</td>\n",
       "      <td>13.000000</td>\n",
       "      <td>0.000000</td>\n",
       "      <td>0.000000</td>\n",
       "      <td>50.000000</td>\n",
       "      <td>360.500000</td>\n",
       "      <td>392.500000</td>\n",
       "      <td>1.000000</td>\n",
       "    </tr>\n",
       "    <tr>\n",
       "      <th>max</th>\n",
       "      <td>1.048438e+06</td>\n",
       "      <td>80.000000</td>\n",
       "      <td>131790.500000</td>\n",
       "      <td>16.000000</td>\n",
       "      <td>99999.000000</td>\n",
       "      <td>2246.000000</td>\n",
       "      <td>99.000000</td>\n",
       "      <td>492.000000</td>\n",
       "      <td>490.000000</td>\n",
       "      <td>1.000000</td>\n",
       "    </tr>\n",
       "  </tbody>\n",
       "</table>\n",
       "</div>"
      ],
      "text/plain": [
       "            user_id         age         salary  education_rank  \\\n",
       "count  1.160000e+02  112.000000     110.000000      116.000000   \n",
       "mean   1.025908e+06   49.767857   44417.506818       10.689655   \n",
       "std    1.426283e+04   13.966486   25665.656589        2.486184   \n",
       "min    1.000527e+06   19.000000    6625.500000        4.000000   \n",
       "25%    1.014770e+06   40.750000   27787.875000        9.000000   \n",
       "50%    1.027053e+06   49.000000   39194.125000       10.000000   \n",
       "75%    1.038558e+06   60.000000   58197.875000       13.000000   \n",
       "max    1.048438e+06   80.000000  131790.500000       16.000000   \n",
       "\n",
       "       mins_beerdrinking_year  mins_exercising_year  works_hours  \\\n",
       "count              114.000000            113.000000   116.000000   \n",
       "mean              3526.157895            138.123894    44.034483   \n",
       "std              16221.218153            503.894142    13.814253   \n",
       "min                  0.000000              0.000000     8.000000   \n",
       "25%                  0.000000              0.000000    40.000000   \n",
       "50%                  0.000000              0.000000    45.000000   \n",
       "75%                  0.000000              0.000000    50.000000   \n",
       "max              99999.000000           2246.000000    99.000000   \n",
       "\n",
       "       tea_per_year  coffee_per_year  great_customer_class  \n",
       "count     87.000000        75.000000            116.000000  \n",
       "mean     246.195402       289.880000              0.413793  \n",
       "std      133.840311       131.694154              0.494649  \n",
       "min       16.000000        19.000000              0.000000  \n",
       "25%      157.000000       188.500000              0.000000  \n",
       "50%      235.000000       306.000000              0.000000  \n",
       "75%      360.500000       392.500000              1.000000  \n",
       "max      492.000000       490.000000              1.000000  "
      ]
     },
     "execution_count": 24,
     "metadata": {},
     "output_type": "execute_result"
    }
   ],
   "source": [
    "# Query the dataset looking for the most likely great customer\n",
    "unique_data[(unique_data['sex'] == 'Male') &\\\n",
    "            (unique_data['race'] == 'caucasian') &\\\n",
    "            (unique_data['occupation'] == 'executive') &\\\n",
    "            (unique_data['marital-status'] == 'Married') &\\\n",
    "            (unique_data['workclass'] == 'self_employed')].describe()"
   ]
  },
  {
   "cell_type": "markdown",
   "metadata": {},
   "source": [
    "41% of these customers are great customers, but they only represent 13% of the total number of great customers:\n",
    "\n",
    "- Numerical data is important for the classification. \n",
    "- The relationship between the features and the target class is most probably not linear."
   ]
  },
  {
   "cell_type": "code",
   "execution_count": 25,
   "metadata": {},
   "outputs": [
    {
     "data": {
      "image/png": "[encoded data removed]",
      "text/plain": [
       "<Figure size 432x432 with 1 Axes>"
      ]
     },
     "metadata": {
      "needs_background": "light"
     },
     "output_type": "display_data"
    }
   ],
   "source": [
    "plt.figure(figsize=(6, 6))\n",
    "plt.hist(unique_data[unique_data['great_customer_class'] == 1].dropna()['user_id'].values, \n",
    "         density=True, color='tomato', label='Great Customers', bins=20)\n",
    "plt.hist(unique_data[unique_data['great_customer_class'] == 0].dropna()['user_id'].values, \n",
    "         density=True, color='steelblue', alpha=0.6, label='Bad Customers', bins=20)\n",
    "plt.grid(True, alpha=0.1, color='black')\n",
    "plt.ylabel('Density')\n",
    "plt.legend()\n",
    "plt.title('User ID')\n",
    "plt.show();"
   ]
  },
  {
   "cell_type": "code",
   "execution_count": 26,
   "metadata": {},
   "outputs": [
    {
     "data": {
      "image/png": "[encoded data removed]",
      "text/plain": [
       "<Figure size 432x432 with 1 Axes>"
      ]
     },
     "metadata": {
      "needs_background": "light"
     },
     "output_type": "display_data"
    }
   ],
   "source": [
    "plt.figure(figsize=(6, 6))\n",
    "plt.hist(unique_data[unique_data['great_customer_class'] == 1].dropna()['age'].values, \n",
    "         density=True, color='tomato', label='Great Customers', bins=20)\n",
    "plt.hist(unique_data[unique_data['great_customer_class'] == 0].dropna()['age'].values, \n",
    "         density=True, color='steelblue', alpha=0.6, label='Bad Customers', bins=20)\n",
    "plt.grid(True, alpha=0.1, color='black')\n",
    "plt.ylabel('Density')\n",
    "plt.legend()\n",
    "plt.title('Age')\n",
    "plt.show();"
   ]
  },
  {
   "cell_type": "code",
   "execution_count": 27,
   "metadata": {},
   "outputs": [
    {
     "data": {
      "image/png": "[encoded data removed]",
      "text/plain": [
       "<Figure size 432x432 with 1 Axes>"
      ]
     },
     "metadata": {
      "needs_background": "light"
     },
     "output_type": "display_data"
    }
   ],
   "source": [
    "plt.figure(figsize=(6, 6))\n",
    "plt.hist(unique_data[unique_data['great_customer_class'] == 1].dropna()['salary'].values, \n",
    "         density=True, color='tomato', label='Great Customers', bins=30)\n",
    "plt.hist(unique_data[unique_data['great_customer_class'] == 0].dropna()['salary'].values, \n",
    "         density=True, color='steelblue', alpha=0.6, label='Bad Customers', bins=30)\n",
    "plt.grid(True, alpha=0.1, color='black')\n",
    "plt.ylabel('Density')\n",
    "plt.legend()\n",
    "plt.title('Salary')\n",
    "plt.show();"
   ]
  },
  {
   "cell_type": "markdown",
   "metadata": {},
   "source": [
    "There are some extreme values (long right tail) in the salary that may be problematic. We can perform a log transformation to the data and make the distribution more normal-like reducing the skewness. "
   ]
  },
  {
   "cell_type": "code",
   "execution_count": 28,
   "metadata": {},
   "outputs": [],
   "source": [
    "unique_data.loc[:, 'log_salary'] = pd.Series(np.log(1 + unique_data['salary'].values), index=unique_data.index)"
   ]
  },
  {
   "cell_type": "code",
   "execution_count": 29,
   "metadata": {},
   "outputs": [
    {
     "data": {
      "image/png": "[encoded data removed]",
      "text/plain": [
       "<Figure size 432x432 with 1 Axes>"
      ]
     },
     "metadata": {
      "needs_background": "light"
     },
     "output_type": "display_data"
    }
   ],
   "source": [
    "plt.figure(figsize=(6, 6))\n",
    "plt.hist(unique_data[unique_data['great_customer_class'] == 1].dropna()['log_salary'].values, \n",
    "         density=True, color='tomato', label='Great Customers', bins=30)\n",
    "plt.hist(unique_data[unique_data['great_customer_class'] == 0].dropna()['log_salary'].values, \n",
    "         density=True, color='steelblue', alpha=0.6, label='Bad Customers', bins=30)\n",
    "plt.grid(True, alpha=0.1, color='black')\n",
    "plt.ylabel('Density')\n",
    "plt.legend()\n",
    "plt.title('Log( 1 + Salary )')\n",
    "plt.show();"
   ]
  },
  {
   "cell_type": "code",
   "execution_count": 30,
   "metadata": {},
   "outputs": [
    {
     "data": {
      "image/png": "[encoded data removed]",
      "text/plain": [
       "<Figure size 432x432 with 1 Axes>"
      ]
     },
     "metadata": {
      "needs_background": "light"
     },
     "output_type": "display_data"
    }
   ],
   "source": [
    "plt.figure(figsize=(6, 6))\n",
    "plt.hist(unique_data[unique_data['great_customer_class'] == 1].dropna()['works_hours'].values, \n",
    "         density=True, color='tomato', label='Great Customers', bins=15)\n",
    "plt.hist(unique_data[unique_data['great_customer_class'] == 0].dropna()['works_hours'].values, \n",
    "         density=True, color='steelblue', alpha=0.6, label='Bad Customers', bins=15)\n",
    "plt.grid(True, alpha=0.1, color='black')\n",
    "plt.ylabel('Density')\n",
    "plt.legend()\n",
    "plt.title('Work Hours')\n",
    "plt.show();"
   ]
  },
  {
   "cell_type": "code",
   "execution_count": 31,
   "metadata": {},
   "outputs": [
    {
     "data": {
      "image/png": "[encoded data removed]",
      "text/plain": [
       "<Figure size 432x432 with 1 Axes>"
      ]
     },
     "metadata": {
      "needs_background": "light"
     },
     "output_type": "display_data"
    }
   ],
   "source": [
    "plt.figure(figsize=(6, 6))\n",
    "plt.hist(unique_data[unique_data['great_customer_class'] == 1].dropna()['tea_per_year'].values, \n",
    "         density=True, color='tomato', label='Great Customers', bins=20)\n",
    "plt.hist(unique_data[unique_data['great_customer_class'] == 0].dropna()['tea_per_year'].values, \n",
    "         density=True, color='steelblue', alpha=0.6, label='Bad Customers', bins=20)\n",
    "plt.grid(True, alpha=0.1, color='black')\n",
    "plt.ylabel('Density')\n",
    "plt.legend()\n",
    "plt.title('Tea per Year')\n",
    "plt.show();"
   ]
  },
  {
   "cell_type": "code",
   "execution_count": 32,
   "metadata": {},
   "outputs": [
    {
     "data": {
      "image/png": "[encoded data removed]",
      "text/plain": [
       "<Figure size 432x432 with 1 Axes>"
      ]
     },
     "metadata": {
      "needs_background": "light"
     },
     "output_type": "display_data"
    }
   ],
   "source": [
    "plt.figure(figsize=(6, 6))\n",
    "plt.hist(unique_data[unique_data['great_customer_class'] == 1].dropna()['coffee_per_year'].values, \n",
    "         density=True, color='tomato', label='Great Customers', bins=20)\n",
    "plt.hist(unique_data[unique_data['great_customer_class'] == 0].dropna()['coffee_per_year'].values, \n",
    "         density=True, color='steelblue', alpha=0.6, label='Bad Customers', bins=20)\n",
    "plt.grid(True, alpha=0.1, color='black')\n",
    "plt.ylabel('Density')\n",
    "plt.legend()\n",
    "plt.title('Coffee per Year')\n",
    "plt.show();"
   ]
  },
  {
   "cell_type": "markdown",
   "metadata": {},
   "source": [
    "`coffee_per_year` and `tea_per_year` do not seem very useful. Nevertheless, we consider them for training in case they help find non-linear patterns."
   ]
  },
  {
   "cell_type": "code",
   "execution_count": 33,
   "metadata": {},
   "outputs": [
    {
     "data": {
      "image/png": "[encoded data removed]",
      "text/plain": [
       "<Figure size 432x432 with 1 Axes>"
      ]
     },
     "metadata": {
      "needs_background": "light"
     },
     "output_type": "display_data"
    }
   ],
   "source": [
    "plt.figure(figsize=(6, 6))\n",
    "plt.hist(unique_data[unique_data['great_customer_class'] == 1].dropna()['mins_beerdrinking_year'].values, \n",
    "         density=True, color='tomato', label='Great Customers', bins=20)\n",
    "plt.hist(unique_data[unique_data['great_customer_class'] == 0].dropna()['mins_beerdrinking_year'].values, \n",
    "         density=True, color='steelblue', alpha=0.6, label='Bad Customers', bins=20)\n",
    "plt.grid(True, alpha=0.1, color='black')\n",
    "plt.ylabel('Density')\n",
    "plt.legend()\n",
    "plt.title('Beer Drinking Year')\n",
    "plt.show();"
   ]
  },
  {
   "cell_type": "code",
   "execution_count": 34,
   "metadata": {},
   "outputs": [
    {
     "data": {
      "image/png": "[encoded data removed]",
      "text/plain": [
       "<Figure size 432x432 with 1 Axes>"
      ]
     },
     "metadata": {
      "needs_background": "light"
     },
     "output_type": "display_data"
    }
   ],
   "source": [
    "plt.figure(figsize=(6, 6))\n",
    "plt.hist(unique_data[unique_data['great_customer_class'] == 1].dropna()['mins_exercising_year'].values, \n",
    "         density=True, color='tomato', label='Great Customers', bins=20)\n",
    "plt.hist(unique_data[unique_data['great_customer_class'] == 0].dropna()['mins_exercising_year'].values, \n",
    "         density=True, color='steelblue', alpha=0.6, label='Bad Customers', bins=20)\n",
    "plt.grid(True, alpha=0.1, color='black')\n",
    "plt.ylabel('Density')\n",
    "plt.legend()\n",
    "plt.title('Exercising Year')\n",
    "plt.show();"
   ]
  },
  {
   "cell_type": "code",
   "execution_count": 35,
   "metadata": {},
   "outputs": [
    {
     "data": {
      "text/html": [
       "<div>\n",
       "<style scoped>\n",
       "    .dataframe tbody tr th:only-of-type {\n",
       "        vertical-align: middle;\n",
       "    }\n",
       "\n",
       "    .dataframe tbody tr th {\n",
       "        vertical-align: top;\n",
       "    }\n",
       "\n",
       "    .dataframe thead tr th {\n",
       "        text-align: left;\n",
       "    }\n",
       "\n",
       "    .dataframe thead tr:last-of-type th {\n",
       "        text-align: right;\n",
       "    }\n",
       "</style>\n",
       "<table border=\"1\" class=\"dataframe\">\n",
       "  <thead>\n",
       "    <tr>\n",
       "      <th></th>\n",
       "      <th colspan=\"8\" halign=\"left\">mins_beerdrinking_year</th>\n",
       "      <th colspan=\"8\" halign=\"left\">mins_exercising_year</th>\n",
       "    </tr>\n",
       "    <tr>\n",
       "      <th></th>\n",
       "      <th>count</th>\n",
       "      <th>mean</th>\n",
       "      <th>std</th>\n",
       "      <th>min</th>\n",
       "      <th>25%</th>\n",
       "      <th>50%</th>\n",
       "      <th>75%</th>\n",
       "      <th>max</th>\n",
       "      <th>count</th>\n",
       "      <th>mean</th>\n",
       "      <th>std</th>\n",
       "      <th>min</th>\n",
       "      <th>25%</th>\n",
       "      <th>50%</th>\n",
       "      <th>75%</th>\n",
       "      <th>max</th>\n",
       "    </tr>\n",
       "    <tr>\n",
       "      <th>great_customer_class</th>\n",
       "      <th></th>\n",
       "      <th></th>\n",
       "      <th></th>\n",
       "      <th></th>\n",
       "      <th></th>\n",
       "      <th></th>\n",
       "      <th></th>\n",
       "      <th></th>\n",
       "      <th></th>\n",
       "      <th></th>\n",
       "      <th></th>\n",
       "      <th></th>\n",
       "      <th></th>\n",
       "      <th></th>\n",
       "      <th></th>\n",
       "      <th></th>\n",
       "    </tr>\n",
       "  </thead>\n",
       "  <tbody>\n",
       "    <tr>\n",
       "      <th>0</th>\n",
       "      <td>7056.0</td>\n",
       "      <td>135.008503</td>\n",
       "      <td>743.211539</td>\n",
       "      <td>0.0</td>\n",
       "      <td>0.0</td>\n",
       "      <td>0.0</td>\n",
       "      <td>0.0</td>\n",
       "      <td>22040.0</td>\n",
       "      <td>7062.0</td>\n",
       "      <td>52.557916</td>\n",
       "      <td>310.493020</td>\n",
       "      <td>0.0</td>\n",
       "      <td>0.0</td>\n",
       "      <td>0.0</td>\n",
       "      <td>0.0</td>\n",
       "      <td>3900.0</td>\n",
       "    </tr>\n",
       "    <tr>\n",
       "      <th>1</th>\n",
       "      <td>1119.0</td>\n",
       "      <td>4422.461126</td>\n",
       "      <td>15769.070193</td>\n",
       "      <td>0.0</td>\n",
       "      <td>0.0</td>\n",
       "      <td>0.0</td>\n",
       "      <td>0.0</td>\n",
       "      <td>99999.0</td>\n",
       "      <td>1116.0</td>\n",
       "      <td>210.999104</td>\n",
       "      <td>612.861618</td>\n",
       "      <td>0.0</td>\n",
       "      <td>0.0</td>\n",
       "      <td>0.0</td>\n",
       "      <td>0.0</td>\n",
       "      <td>3004.0</td>\n",
       "    </tr>\n",
       "  </tbody>\n",
       "</table>\n",
       "</div>"
      ],
      "text/plain": [
       "                     mins_beerdrinking_year                                  \\\n",
       "                                      count         mean           std  min   \n",
       "great_customer_class                                                          \n",
       "0                                    7056.0   135.008503    743.211539  0.0   \n",
       "1                                    1119.0  4422.461126  15769.070193  0.0   \n",
       "\n",
       "                                             mins_exercising_year              \\\n",
       "                      25%  50%  75%      max                count        mean   \n",
       "great_customer_class                                                            \n",
       "0                     0.0  0.0  0.0  22040.0               7062.0   52.557916   \n",
       "1                     0.0  0.0  0.0  99999.0               1116.0  210.999104   \n",
       "\n",
       "                                                              \n",
       "                             std  min  25%  50%  75%     max  \n",
       "great_customer_class                                          \n",
       "0                     310.493020  0.0  0.0  0.0  0.0  3900.0  \n",
       "1                     612.861618  0.0  0.0  0.0  0.0  3004.0  "
      ]
     },
     "execution_count": 35,
     "metadata": {},
     "output_type": "execute_result"
    }
   ],
   "source": [
    "unique_data.groupby(['great_customer_class'])[['mins_beerdrinking_year', 'mins_exercising_year']].describe()"
   ]
  },
  {
   "cell_type": "markdown",
   "metadata": {},
   "source": [
    "`mins_beerdrinking_year` and `mins_exercising_year` take mostly zero values."
   ]
  },
  {
   "cell_type": "markdown",
   "metadata": {},
   "source": [
    "## 4) Pearson correlation"
   ]
  },
  {
   "cell_type": "code",
   "execution_count": 36,
   "metadata": {},
   "outputs": [
    {
     "data": {
      "image/png": "[encoded data removed]",
      "text/plain": [
       "<Figure size 720x504 with 2 Axes>"
      ]
     },
     "metadata": {
      "needs_background": "light"
     },
     "output_type": "display_data"
    }
   ],
   "source": [
    "plt.figure(figsize=(10, 7))\n",
    "sns.heatmap(unique_data.corr(), annot=True, fmt='.2f', cmap='Blues');"
   ]
  },
  {
   "cell_type": "markdown",
   "metadata": {},
   "source": [
    "Low correlation and independent predictors. This discards **multicollinearity** problems that could make linear models not able to distinguish between the individual effects of the independent variables on the dependent variable."
   ]
  },
  {
   "cell_type": "markdown",
   "metadata": {},
   "source": [
    "## 5) Missing values"
   ]
  },
  {
   "cell_type": "code",
   "execution_count": 37,
   "metadata": {},
   "outputs": [],
   "source": [
    "from sklearn.impute import KNNImputer\n",
    "from sklearn.preprocessing import MinMaxScaler\n",
    "from sklearn.model_selection import train_test_split"
   ]
  },
  {
   "cell_type": "code",
   "execution_count": 38,
   "metadata": {},
   "outputs": [],
   "source": [
    "clean_data = unique_data.drop(['user_id', 'salary', 'sex', 'race'], axis=1)"
   ]
  },
  {
   "cell_type": "markdown",
   "metadata": {},
   "source": [
    "Drop `sex` and `race` to avoid any gender or racial bias in the decision-making of the model. This is a growing area of research in ML and soon will become part of every data science process. It is important to detect any potential biases in the data that could negatively impact specific user groups."
   ]
  },
  {
   "cell_type": "code",
   "execution_count": 39,
   "metadata": {},
   "outputs": [
    {
     "name": "stdout",
     "output_type": "stream",
     "text": [
      "Feature                     Unique (%)        Missing (%)      \n",
      "-------------------------------------------------------\n",
      "age                         0.85              4.90             \n",
      "workclass                   0.03              6.31             \n",
      "education_rank              0.19              0.00             \n",
      "marital-status              0.05              0.00             \n",
      "occupation                  0.15              6.31             \n",
      "mins_beerdrinking_year      1.12              4.93             \n",
      "mins_exercising_year        0.76              4.90             \n",
      "works_hours                 0.98              0.00             \n",
      "tea_per_year                5.80              28.25            \n",
      "coffee_per_year             5.80              28.04            \n",
      "great_customer_class        0.02              0.00             \n",
      "log_salary                  83.80             4.91             \n",
      "-------------------------------------------------------\n"
     ]
    }
   ],
   "source": [
    "health_check(clean_data, ['float', 'int', 'object'])"
   ]
  },
  {
   "cell_type": "markdown",
   "metadata": {},
   "source": [
    "`workclass` and `occupation` have the same percentage of missing values. In fact, when `workclass` is null then `occupation` is null as well. Instead of imputing values for these two features, we will encode them as dummy variables and users that have not provided any information regarding their work status will be populated with 0 for all the different levels of the feature. For instance: \n",
    "\n",
    "A user that works in tech:\n",
    "\n",
    "| tech | sales | trucker | ... | executive |\n",
    "|:----:|:-----:|:-------:|:---:|:---------:|\n",
    "|   1  |   0   |    0    |  0  |     0     |\n",
    "\n",
    "A user we don't have information about:\n",
    "\n",
    "| tech | sales | trucker | ... | executive |\n",
    "|:----:|:-----:|:-------:|:---:|:---------:|\n",
    "|   0  |   0   |    0    |  0  |     0     |\n"
   ]
  },
  {
   "cell_type": "code",
   "execution_count": 40,
   "metadata": {},
   "outputs": [],
   "source": [
    "# Create dummies\n",
    "clean_data = pd.get_dummies(clean_data)\n",
    "\n",
    "# Split X and y \n",
    "X = clean_data.loc[:, clean_data.columns != 'great_customer_class']\n",
    "y = clean_data.loc[:, clean_data.columns == 'great_customer_class']\n",
    "\n",
    "# Make sure both train and test sets have the same proportion of great customers\n",
    "X_train, X_test, y_train, y_test = train_test_split(X, y, test_size=0.20, random_state=0, stratify=y)"
   ]
  },
  {
   "cell_type": "code",
   "execution_count": 41,
   "metadata": {},
   "outputs": [],
   "source": [
    "# Create instances of the scaler and KNN Imputer\n",
    "scaler = MinMaxScaler()\n",
    "imputer = KNNImputer(n_neighbors=10, weights='distance')\n",
    "\n",
    "# Fit on training set\n",
    "scaler.fit(X_train)\n",
    "imputer.fit(X_train)\n",
    "\n",
    "# Transform training set\n",
    "Xt_train = scaler.transform(X_train)\n",
    "Xt_train = imputer.transform(Xt_train)\n",
    "\n",
    "# Transform test set\n",
    "Xt_test = scaler.transform(X_test)\n",
    "Xt_test = imputer.transform(Xt_test)"
   ]
  },
  {
   "cell_type": "code",
   "execution_count": 42,
   "metadata": {},
   "outputs": [
    {
     "name": "stdout",
     "output_type": "stream",
     "text": [
      "Missing values in training set: False\n",
      "Missing values in test set: False\n"
     ]
    }
   ],
   "source": [
    "print('Missing values in training set:', np.isnan(np.max(Xt_train)))\n",
    "print('Missing values in test set:', np.isnan(np.max(Xt_test)))"
   ]
  },
  {
   "cell_type": "code",
   "execution_count": 43,
   "metadata": {},
   "outputs": [
    {
     "name": "stdout",
     "output_type": "stream",
     "text": [
      "Training set shape: (6879, 28)\n",
      "Test set shape: (6879, 28)\n"
     ]
    }
   ],
   "source": [
    "print('Training set shape:', Xt_train.shape)\n",
    "print('Test set shape:', Xt_train.shape)"
   ]
  },
  {
   "cell_type": "markdown",
   "metadata": {},
   "source": [
    "## 6) Synthetic Minority Oversampling Technique (SMOTE) + Random Undersampling "
   ]
  },
  {
   "cell_type": "markdown",
   "metadata": {},
   "source": [
    "Sample a random observation from the minority class. Then k of the nearest neighbors for that example are found. A randomly selected neighbor is chosen and a synthetic example is created at a randomly selected point between the two examples in feature space. Ramdomly drop observations from the majority class until a required ratio of positive-to-negative class distribution is met. "
   ]
  },
  {
   "cell_type": "code",
   "execution_count": 44,
   "metadata": {},
   "outputs": [],
   "source": [
    "from imblearn.over_sampling import SMOTE\n",
    "from imblearn.under_sampling import RandomUnderSampler\n",
    "from imblearn.pipeline import Pipeline"
   ]
  },
  {
   "cell_type": "code",
   "execution_count": 45,
   "metadata": {},
   "outputs": [],
   "source": [
    "over = SMOTE(sampling_strategy=0.25, k_neighbors=10, random_state=0)\n",
    "under = RandomUnderSampler(sampling_strategy=0.40, random_state=0)"
   ]
  },
  {
   "cell_type": "code",
   "execution_count": 46,
   "metadata": {},
   "outputs": [],
   "source": [
    "steps = [('over', over), ('under', under)]\n",
    "pipeline = Pipeline(steps=steps)\n",
    "\n",
    "Xs, ys = pipeline.fit_resample(Xt_train, y_train)"
   ]
  },
  {
   "cell_type": "code",
   "execution_count": 47,
   "metadata": {},
   "outputs": [
    {
     "name": "stdout",
     "output_type": "stream",
     "text": [
      "Previous ratio: 0.16\n",
      "Previous training instances: 6879\n",
      "Current ratio: 0.40\n",
      "Current training instances: 5201\n"
     ]
    }
   ],
   "source": [
    "print('Previous ratio: {:.2f}'.format(np.sum(y_train.values) / (len(y_train) - np.sum(y_train.values))))\n",
    "print('Previous training instances:', len(Xt_train))\n",
    "print('Current ratio: {:.2f}'.format(np.sum(ys.values) / (len(ys) - np.sum(ys.values))))\n",
    "print('Current training instances:', len(Xs))"
   ]
  },
  {
   "cell_type": "markdown",
   "metadata": {},
   "source": [
    "The ratio of the number of samples in the minority class over the number of samples in the majority class after resampling is 0.40. "
   ]
  },
  {
   "cell_type": "markdown",
   "metadata": {},
   "source": [
    "## 6) Preprocessing Pipeline"
   ]
  },
  {
   "cell_type": "markdown",
   "metadata": {},
   "source": [
    "- **(i)** Remove duplicate rows. \n",
    "- **(ii)** Drop `user_id`, `sex` and `race`.  \n",
    "- **(iii)** Categorical features `occupation`, `marital-status` and `workclass` to one-hot encoding. `education_rank` is already transformed using ordinal encoding - order matters.  \n",
    "- **(iv)** Log-transform `salary`.\n",
    "- **(v)** Normalize features.\n",
    "- **(vi)** Impute `age`, `log_salary`, `tea_per_year`, `coffee_per_year`, `mins_beerdrinking_year`and `min_execising_year` missing values using the average feature value of the 10 closest neighbors in feature space (KNN Imputer).\n",
    "- **(vii)** Apply SMOTE + RU to achieve a 0.40 ratio of samples in the minority class over the samples in the majority class."
   ]
  }
 ],
 "metadata": {
  "kernelspec": {
   "display_name": "Python 3",
   "language": "python",
   "name": "python3"
  },
  "language_info": {
   "codemirror_mode": {
    "name": "ipython",
    "version": 3
   },
   "file_extension": ".py",
   "mimetype": "text/x-python",
   "name": "python",
   "nbconvert_exporter": "python",
   "pygments_lexer": "ipython3",
   "version": "3.7.8"
  }
 },
 "nbformat": 4,
 "nbformat_minor": 1
}
